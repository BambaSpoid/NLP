{
  "cells": [
    {
      "cell_type": "markdown",
      "metadata": {
        "id": "view-in-github",
        "colab_type": "text"
      },
      "source": [
        "<a href=\"https://colab.research.google.com/github/BambaSpoid/NLP/blob/master/NLP1_naive_bayes.ipynb\" target=\"_parent\"><img src=\"https://colab.research.google.com/assets/colab-badge.svg\" alt=\"Open In Colab\"/></a>"
      ]
    },
    {
      "cell_type": "markdown",
      "metadata": {
        "id": "mI3DOA0EZTAI"
      },
      "source": [
        "The goal of this lab is to implement a language identifier (LID).\n",
        "\n",
        "Our first model will be based on Naive Bayes."
      ]
    },
    {
      "cell_type": "code",
      "execution_count": 1,
      "metadata": {
        "id": "qPHenzGbZTAK"
      },
      "outputs": [],
      "source": [
        "import io, sys, math, re\n",
        "from collections import defaultdict"
      ]
    },
    {
      "cell_type": "markdown",
      "metadata": {
        "id": "4PxX8Ho6ZTAL"
      },
      "source": [
        "The next function is used to load the data. Each line of the data consist of a label (corresponding to a language), followed by some text, written in that language. Here is an example of data:\n",
        "\n",
        "```__label__de Zur Namensdeutung gibt es mehrere Varianten.```\n"
      ]
    },
    {
      "cell_type": "code",
      "execution_count": 2,
      "metadata": {
        "id": "Vnu3lx6VZTAL"
      },
      "outputs": [],
      "source": [
        "def load_data(filename):\n",
        "    fin = io.open(filename, 'r', encoding='utf-8')\n",
        "    data = []\n",
        "    for line in fin:\n",
        "        tokens = line.split()\n",
        "        data.append((tokens[0], tokens[1:]))\n",
        "    return data"
      ]
    },
    {
      "cell_type": "markdown",
      "metadata": {
        "id": "4mVERDALZTAL"
      },
      "source": [
        "You can now try loading the first dataset `train1.txt` and look what examples look like."
      ]
    },
    {
      "cell_type": "code",
      "execution_count": 3,
      "metadata": {
        "id": "Hfo9GyrRZTAL",
        "colab": {
          "base_uri": "https://localhost:8080/"
        },
        "outputId": "29091d6f-8c2f-4dbc-a12b-5e890c68e967"
      },
      "outputs": [
        {
          "output_type": "stream",
          "name": "stdout",
          "text": [
            "('__label__de', ['Ich', 'würde', 'alles', 'tun,', 'um', 'dich', 'zu', 'beschützen.'])\n"
          ]
        }
      ],
      "source": [
        "data = load_data(\"train1.txt\")\n",
        "print(data[0])"
      ]
    },
    {
      "cell_type": "markdown",
      "metadata": {
        "id": "jHhwypMrZTAM"
      },
      "source": [
        "Next, we will start implementing the Naive Bayes method. This technique is based on word counts, and we thus need to start by implementing a function to count the words and labels of our training set.\n",
        "\n",
        "`n_examples` is the total number of examples\n",
        "\n",
        "`n_words_per_label` is the total number of words for a given label\n",
        "\n",
        "`label_counts` is the number of times a given label appears in the training data\n",
        "\n",
        "`word_counts` is the number of times a word appears with a given label"
      ]
    },
    {
      "cell_type": "code",
      "execution_count": 4,
      "metadata": {
        "id": "XQkd7aFEZTAM"
      },
      "outputs": [],
      "source": [
        "def count_words(data):\n",
        "    n_examples = len(data)\n",
        "    n_words_per_label = defaultdict(lambda: 0)\n",
        "    label_counts = defaultdict(lambda: 0)\n",
        "    word_counts = defaultdict(lambda: defaultdict(lambda: 0.0))\n",
        "    ## FILL CODE\n",
        "    for example in data:\n",
        "        label, sentence = example\n",
        "        label_counts[label] +=1\n",
        "        n_words_per_label[label] += len(sentence)\n",
        "        for word in sentence:\n",
        "            word_counts[label][word] += 1\n",
        "\n",
        "    return {'label_counts': label_counts, \n",
        "            'word_counts': word_counts, \n",
        "            'n_examples': n_examples, \n",
        "            'n_words_per_label': n_words_per_label}"
      ]
    },
    {
      "cell_type": "markdown",
      "metadata": {
        "id": "08XbLfCYZTAM"
      },
      "source": [
        "Next, using the word and label counts from the previous function, we can implement the prediction function.\n",
        "\n",
        "Here, `mu` is a regularization parameter (Laplace smoothing), and `sentence` is the list of words corresponding to the test example."
      ]
    },
    {
      "cell_type": "code",
      "execution_count": 23,
      "metadata": {
        "id": "UiKz_ujHZTAN"
      },
      "outputs": [],
      "source": [
        "def predict(sentence, mu, label_counts, word_counts, n_examples, n_words_per_label):\n",
        "    best_label = None\n",
        "    best_score = float('-inf')\n",
        "    ## FILE CODE\n",
        "    for label in word_counts.keys():\n",
        "        score, w_count = 1.0, word_counts[label]\n",
        "        for word in sentence: \n",
        "          score *= (mu + w_count[word])/(mu*len(word_counts[label]) + n_words_per_label[label])\n",
        "        score *= (1.0 * label_counts[label] / n_examples)\n",
        "        if score > best_score:\n",
        "            best_score, best_label = score, label\n",
        "\n",
        "\n",
        "    return best_label"
      ]
    },
    {
      "cell_type": "markdown",
      "metadata": {
        "id": "e_bUihbdZTAN"
      },
      "source": [
        "The next function will be used to evaluate the Naive Bayes model on a validation set. It computes the accuracy for a particular regularization parameter `mu`."
      ]
    },
    {
      "cell_type": "code",
      "execution_count": 24,
      "metadata": {
        "id": "JBZ8FtQAZTAN"
      },
      "outputs": [],
      "source": [
        "def compute_accuracy(valid_data, mu, counts):\n",
        "    accuracy = 0.0\n",
        "    correct = 0\n",
        "    for label, sentence in valid_data:\n",
        "        ## FILL CODE\n",
        "        res = predict(sentence, mu, counts['label_counts'], counts['word_counts'] , counts['n_examples'] , counts['n_words_per_label'])\n",
        "        correct += int(res == label)\n",
        "     \n",
        "    return 1.0 * correct/len(valid_data)"
      ]
    },
    {
      "cell_type": "code",
      "execution_count": 25,
      "metadata": {
        "id": "SwXFvT1rZTAN",
        "colab": {
          "base_uri": "https://localhost:8080/"
        },
        "outputId": "eba556cf-6ff3-4230-a527-122b97308350"
      },
      "outputs": [
        {
          "output_type": "stream",
          "name": "stdout",
          "text": [
            "\n",
            "** Naive Bayes **\n",
            "\n",
            "Validation accuracy: 0.941\n",
            "\n"
          ]
        }
      ],
      "source": [
        "print(\"\")\n",
        "print(\"** Naive Bayes **\")\n",
        "print(\"\")\n",
        "\n",
        "mu = 1.0\n",
        "train_data = load_data(\"train1.txt\")\n",
        "valid_data = load_data(\"valid1.txt\")\n",
        "counts = count_words(train_data)\n",
        "\n",
        "print(\"Validation accuracy: %.3f\" % compute_accuracy(valid_data, mu, counts))\n",
        "print(\"\")"
      ]
    },
    {
      "cell_type": "code",
      "execution_count": null,
      "metadata": {
        "id": "UQMzak-PZTAO"
      },
      "outputs": [],
      "source": [
        ""
      ]
    }
  ],
  "metadata": {
    "kernelspec": {
      "display_name": "Python 3",
      "language": "python",
      "name": "python3"
    },
    "language_info": {
      "codemirror_mode": {
        "name": "ipython",
        "version": 3
      },
      "file_extension": ".py",
      "mimetype": "text/x-python",
      "name": "python",
      "nbconvert_exporter": "python",
      "pygments_lexer": "ipython3",
      "version": "3.6.2+"
    },
    "colab": {
      "name": "NLP1_naive_bayes.ipynb",
      "provenance": [],
      "collapsed_sections": [],
      "include_colab_link": true
    }
  },
  "nbformat": 4,
  "nbformat_minor": 0
}